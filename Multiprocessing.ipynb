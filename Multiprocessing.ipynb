{
 "cells": [
  {
   "cell_type": "markdown",
   "metadata": {},
   "source": [
    "# Multiprocessing"
   ]
  },
  {
   "cell_type": "markdown",
   "metadata": {},
   "source": [
    "## 1. Creat processes"
   ]
  },
  {
   "cell_type": "code",
   "execution_count": 1,
   "metadata": {
    "collapsed": false
   },
   "outputs": [],
   "source": [
    "import os\n",
    "import numpy as np\n",
    "import timeit\n",
    "import multiprocessing as mp\n",
    "from multiprocessing import Process, Pipe"
   ]
  },
  {
   "cell_type": "code",
   "execution_count": 2,
   "metadata": {
    "collapsed": false
   },
   "outputs": [
    {
     "name": "stdout",
     "output_type": "stream",
     "text": [
      "PID of Processor 1:  1474\n",
      "PID of Porcessor 2: 1485\n",
      "PID of Porcessor 3: 1486\n"
     ]
    }
   ],
   "source": [
    "def f_1(name):\n",
    "    print(\"PID of Porcessor {0}: {1}\".format(name, os.getpid()))\n",
    "    \n",
    "print(\"PID of Processor 1: \", os.getpid())\n",
    "\n",
    "p2 = Process(target=f_1, args=(\"2\",))\n",
    "p3 = Process(target=f_1, args=(3,))\n",
    "\n",
    "p2.start()\n",
    "p3.start()\n",
    "p3.join()\n",
    "p3.join()"
   ]
  },
  {
   "cell_type": "markdown",
   "metadata": {},
   "source": [
    "## 2. Data sharing between Processors\n",
    "\n",
    "Basically, each process has independent recourse and doen't share it."
   ]
  },
  {
   "cell_type": "code",
   "execution_count": 3,
   "metadata": {
    "collapsed": false
   },
   "outputs": [
    {
     "name": "stdout",
     "output_type": "stream",
     "text": [
      "a in process 1: 72\n",
      "a in process 2: 73\n",
      "a in process 3: 73\n"
     ]
    }
   ],
   "source": [
    "a = 71\n",
    "\n",
    "def f_2(name):\n",
    "    global a\n",
    "    a = a+1\n",
    "    print(\"a in process {0}: {1}\".format(name, a))\n",
    "    \n",
    "    \n",
    "f_2(\"1\")\n",
    "p2 = Process(target=f_2, args=(\"2\",))\n",
    "p3 = Process(target=f_2, args=(3,))\n",
    "\n",
    "p2.start()\n",
    "p3.start()\n",
    "p2.join()\n",
    "p3.join()"
   ]
  },
  {
   "cell_type": "markdown",
   "metadata": {},
   "source": [
    "__The way to solve this issue is to use 'Pipe'__\n",
    "\n",
    "- Pipe object are linked to a set of objects, and can send data to one another.\n",
    "- Each connection object has send() and recv() methods    "
   ]
  },
  {
   "cell_type": "code",
   "execution_count": 4,
   "metadata": {
    "collapsed": false
   },
   "outputs": [
    {
     "name": "stdout",
     "output_type": "stream",
     "text": [
      "pipe1's message\n",
      "pipe2's message\n"
     ]
    }
   ],
   "source": [
    "def f_3(obj):\n",
    "    print(obj.recv())\n",
    "    obj.send(\"pipe2\\'s message\")\n",
    "    obj.close\n",
    "    \n",
    "pipe1, pipe2 = Pipe()\n",
    "\n",
    "pipe1.send(\"pipe1\\'s message\")\n",
    "p = Process(target=f_3, args=(pipe2,))\n",
    "\n",
    "p.start()\n",
    "print(pipe1.recv())\n",
    "p.join()"
   ]
  },
  {
   "cell_type": "code",
   "execution_count": 8,
   "metadata": {
    "collapsed": false
   },
   "outputs": [
    {
     "ename": "ValueError",
     "evalue": "not enough values to unpack (expected 3, got 2)",
     "output_type": "error",
     "traceback": [
      "\u001b[0;31m---------------------------------------------------------------------------\u001b[0m",
      "\u001b[0;31mValueError\u001b[0m                                Traceback (most recent call last)",
      "\u001b[0;32m<ipython-input-8-ead58d6da418>\u001b[0m in \u001b[0;36m<module>\u001b[0;34m()\u001b[0m\n\u001b[1;32m      6\u001b[0m     \u001b[0mobj\u001b[0m\u001b[0;34m.\u001b[0m\u001b[0mclose\u001b[0m\u001b[0;34m\u001b[0m\u001b[0m\n\u001b[1;32m      7\u001b[0m \u001b[0;34m\u001b[0m\u001b[0m\n\u001b[0;32m----> 8\u001b[0;31m \u001b[0mpipe1\u001b[0m\u001b[0;34m,\u001b[0m \u001b[0mpipe2\u001b[0m\u001b[0;34m,\u001b[0m \u001b[0mpipe3\u001b[0m \u001b[0;34m=\u001b[0m \u001b[0mPipe\u001b[0m\u001b[0;34m(\u001b[0m\u001b[0;36m2\u001b[0m\u001b[0;34m)\u001b[0m\u001b[0;34m\u001b[0m\u001b[0m\n\u001b[0m\u001b[1;32m      9\u001b[0m \u001b[0;34m\u001b[0m\u001b[0m\n\u001b[1;32m     10\u001b[0m \u001b[0mp\u001b[0m \u001b[0;34m=\u001b[0m \u001b[0mProcess\u001b[0m\u001b[0;34m(\u001b[0m\u001b[0mtarget\u001b[0m\u001b[0;34m=\u001b[0m\u001b[0mf_3\u001b[0m\u001b[0;34m,\u001b[0m \u001b[0margs\u001b[0m\u001b[0;34m=\u001b[0m\u001b[0;34m(\u001b[0m\u001b[0mpipe2\u001b[0m\u001b[0;34m,\u001b[0m \u001b[0ma\u001b[0m\u001b[0;34m,\u001b[0m\u001b[0;34m)\u001b[0m\u001b[0;34m)\u001b[0m\u001b[0;34m\u001b[0m\u001b[0m\n",
      "\u001b[0;31mValueError\u001b[0m: not enough values to unpack (expected 3, got 2)"
     ]
    }
   ],
   "source": [
    "a = 1\n",
    "\n",
    "def f_3(obj, num):\n",
    "    num = num + 1\n",
    "    obj.send(num)\n",
    "    obj.close\n",
    "    \n",
    "pipe1, pipe2, pipe3 = Pipe(2)\n",
    "\n",
    "p = Process(target=f_3, args=(pipe2, a,))\n",
    "\n",
    "p.start()\n",
    "print(pipe1.recv())\n",
    "p.join()"
   ]
  }
 ],
 "metadata": {
  "kernelspec": {
   "display_name": "Python 3",
   "language": "python",
   "name": "python3"
  },
  "language_info": {
   "codemirror_mode": {
    "name": "ipython",
    "version": 3
   },
   "file_extension": ".py",
   "mimetype": "text/x-python",
   "name": "python",
   "nbconvert_exporter": "python",
   "pygments_lexer": "ipython3",
   "version": "3.5.1"
  }
 },
 "nbformat": 4,
 "nbformat_minor": 0
}
